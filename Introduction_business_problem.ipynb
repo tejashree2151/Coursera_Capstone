{
 "cells": [
  {
   "cell_type": "markdown",
   "metadata": {},
   "source": [
    "# Identification of Car accident severity using Machine learning Model\n",
    "\n",
    "### A description of the problem and a discussion of the background. \n",
    "\n",
    "#### 1. Introduction:\n",
    "#### 1.1\tBackground:\n",
    "Car accident is major issue all over the globe. Number of factors involved in accident as locations, day or night, driver is drunk or not, road condition, street light condition, weather condition. We should study various factors that impacts on car accident so that we can take preventive majors. This will help us to take necessary efforts to avoid car accident.\n",
    "\n",
    "#### 1.2\tProblem Statement:\n",
    "Data contains all the information about accident happened, its locations, weather condition, what were the road condition, street light condition and all other important factor that directly or indirectly makes impact on car accident. This project aims to predict the severity of the car accident as injury or properly damaged based on given input factors. Our major interest is to find out cause of the car accident. What are the different factors which are involved in accident to be happening, so that we can take preventive majors and we can reduce the severity of car accident?\n",
    "#### 1.3\tInterest\n",
    "Government of road and transport will be interested to know the cause of car accident and how we can reduce it by taking the preventive majors or taking the necessary actions. As it deals with everyone’s life, it’s better if we reduce the accident rate which we interest of all the passengers who travel. Public and private transport drivers will be happy to see that government is having concerned about safety of an individual.  \n"
   ]
  },
  {
   "cell_type": "code",
   "execution_count": null,
   "metadata": {},
   "outputs": [],
   "source": []
  }
 ],
 "metadata": {
  "kernelspec": {
   "display_name": "Python 3",
   "language": "python",
   "name": "python3"
  },
  "language_info": {
   "codemirror_mode": {
    "name": "ipython",
    "version": 3
   },
   "file_extension": ".py",
   "mimetype": "text/x-python",
   "name": "python",
   "nbconvert_exporter": "python",
   "pygments_lexer": "ipython3",
   "version": "3.6.8"
  }
 },
 "nbformat": 4,
 "nbformat_minor": 4
}
