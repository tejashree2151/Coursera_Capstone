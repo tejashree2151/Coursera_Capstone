{
 "cells": [
  {
   "attachments": {},
   "cell_type": "markdown",
   "metadata": {},
   "source": [
    "# Identification of Car accident severity using Machine learning Model\n",
    "\n",
    "### A description of the data and how it will be used to solve the problem \n",
    "\n",
    "#### 2. Data acquisition and cleaning\n",
    "#### 2.1 Data sources:\n",
    "I have used data which is available through coursera. \n",
    "#### 2.2 Data cleaning:\n",
    "Data contains number of fields are repetitive and some fields are completely blank. For this, we need to preprocess our data. Here, In this file, \n",
    "Following fields are presents from which, I dropped columns which are not required.\n",
    "\n",
    "SEVERITYCODE: Deleted as it was repeated.\n",
    "X: kept as it it as it defined lattitude.\n",
    "Y: kept as it it as it defined logitude.\n",
    "OBJECTID: It is unique ID number does not make any impact on predicting accident pattern so deleted.\n",
    "INCKEY: A unique key not required so deleted.\t\n",
    "COLDETKE: A secondary unique key not required so deleted.\n",
    "REPORTNO: It is unique report number given to each accident which does not help in detecting accident information.\n",
    "STATUS: It just define the information as report status matched or not matched. not required, so deleted.\n",
    "ADDRTYPE: It defines Collision address type:\n",
    "                                        • Alley\n",
    "                                        • Block\n",
    "                                        • Intersection\t\n",
    "\n",
    "INTKEY:Key that corresponds to the intersection associated with a collision\n",
    "LOCATION:Description of the general location of the collision\n",
    "EXCEPTRSNCODE:No value in column, so deleted.\n",
    "EXCEPTRSNDESC:No value in column, so deleted.\n",
    "SEVERITYCODE:A code that corresponds to the severity of the collision:\n",
    "                                        • 3—fatality\n",
    "                                        • 2b—serious injury\n",
    "                                        • 2—injury\n",
    "                                        • 1—prop damage\n",
    "                                        • 0—unknown\n",
    "SEVERITYDESC:same as above, so not required so deleted. It is detailed description of the severity of the collision\n",
    "\n",
    "COLLISIONTYPE:Collision type \n",
    "\n",
    "PERSONCOUNT:The total number of people involved in the collision\n",
    "PEDCOUNT:The number of pedestrians involved in the collision. This is entered by the state.\n",
    "PEDCYLCOUNT:The number of bicycles involved in the collision. This is entered by the state.\n",
    "VEHCOUNT:The number of vehicles involved in the collision. This is entered by the state.\n",
    "INJURIES: The number of total injuries in the collision. This is entered by the state.\n",
    "SERIOUSINJURIES:The number of serious injuries in the collision. This is entered by the state.\n",
    "\n",
    "FATALITIES:The number of fatalities in the collision. This is entered by the state.\n",
    "INCDATE:The date of the incident.\n",
    "INCDTTM: The date and time of the incident.\n",
    "JUNCTIONTYPE:Category of junction at which collision took place\n",
    "SDOT_COLCODE:A code given to the collision by SDOT.\n",
    "SDOT_COLDESC:A description of the collision corresponding to the collision code.\n",
    "INATTENTIONIND: Whether or not collision was due to inattention. (Y/N)\n",
    "UNDERINFL:Whether or not a driver involved was under the influence of drugs or alcohol.\n",
    "WEATHER:A description of the weather conditions during the time of the collision.\n",
    "ROADCOND: 300 The condition of the road during the collision.\n",
    "LIGHTCOND: 300 The light conditions during the collision.\n",
    "PEDROWNOTGRNT: Whether or not the pedestrian right of way was not granted. (Y/N)\n",
    "SDOTCOLNUM Text, 10 A number given to the collision by SDOT.\n",
    "SPEEDING:Whether or not speeding was a factor in the collision. (Y/N)\n",
    "ST_COLCODE: A code provided by the state that describes the collision. For more information about these codes, please see the State Collision Code Dictionary.\n",
    "ST_COLDESC: A description that corresponds to the state’s coding designation.\n",
    "SEGLANEKEY: A key for the lane segment in which the collision occurred.\n",
    "CROSSWALKKEY: A key for the crosswalk at which the collision occurred.\n",
    "HITPARKEDCAR: Whether or not the collision involved hitting a parked car. (Y/N)\n",
    "\n",
    "\n",
    "#### 2.3 Feature selection:\n",
    "In feature selection, I have selected following field which makes impact on car accident.\n",
    "car_df.columns\n",
    "Index(['X', 'Y', 'ADDRTYPE', 'LOCATION', 'SEVERITYCODE', 'COLLISIONTYPE',\n",
    "       'PERSONCOUNT', 'PEDCOUNT', 'PEDCYLCOUNT', 'VEHCOUNT', 'INCDATE',\n",
    "       'INCDTTM', 'JUNCTIONTYPE', 'SDOT_COLCODE', 'SDOT_COLDESC',\n",
    "       'INATTENTIONIND', 'UNDERINFL', 'WEATHER', 'ROADCOND', 'LIGHTCOND',\n",
    "       'PEDROWNOTGRNT', 'SDOTCOLNUM', 'SPEEDING', 'ST_COLCODE', 'ST_COLDESC','HITPARKEDCAR'],dtype='object')\n",
    "\n",
    "X Y coordinates can be used to check the location of accident. if count of car accident is major at particular place, we can take immediate action to reduce the count by applying some preventive measures.\n",
    "       \n",
    "address type define type as Intersection/Block or Alley which will be helpful to predict.\n",
    "Location defines actual location of accident.\n",
    "Severity Code: we can predict Y\n"
   ]
  },
  {
   "cell_type": "code",
   "execution_count": 1,
   "metadata": {},
   "outputs": [],
   "source": [
    "import pandas as pd\n",
    "import pylab as pl\n",
    "import numpy as np\n",
    "import scipy.optimize as opt\n",
    "from sklearn import preprocessing\n",
    "%matplotlib inline \n",
    "import matplotlib.pyplot as plt"
   ]
  },
  {
   "cell_type": "code",
   "execution_count": 2,
   "metadata": {},
   "outputs": [
    {
     "name": "stderr",
     "output_type": "stream",
     "text": [
      "c:\\users\\hp\\appdata\\local\\programs\\python\\python36\\lib\\site-packages\\IPython\\core\\interactiveshell.py:3051: DtypeWarning: Columns (23) have mixed types.Specify dtype option on import or set low_memory=False.\n",
      "  interactivity=interactivity, compiler=compiler, result=result)\n"
     ]
    },
    {
     "data": {
      "text/html": [
       "<div>\n",
       "<style scoped>\n",
       "    .dataframe tbody tr th:only-of-type {\n",
       "        vertical-align: middle;\n",
       "    }\n",
       "\n",
       "    .dataframe tbody tr th {\n",
       "        vertical-align: top;\n",
       "    }\n",
       "\n",
       "    .dataframe thead th {\n",
       "        text-align: right;\n",
       "    }\n",
       "</style>\n",
       "<table border=\"1\" class=\"dataframe\">\n",
       "  <thead>\n",
       "    <tr style=\"text-align: right;\">\n",
       "      <th></th>\n",
       "      <th>X</th>\n",
       "      <th>Y</th>\n",
       "      <th>ADDRTYPE</th>\n",
       "      <th>LOCATION</th>\n",
       "      <th>SEVERITYCODE</th>\n",
       "      <th>COLLISIONTYPE</th>\n",
       "      <th>PERSONCOUNT</th>\n",
       "      <th>PEDCOUNT</th>\n",
       "      <th>PEDCYLCOUNT</th>\n",
       "      <th>VEHCOUNT</th>\n",
       "      <th>...</th>\n",
       "      <th>UNDERINFL</th>\n",
       "      <th>WEATHER</th>\n",
       "      <th>ROADCOND</th>\n",
       "      <th>LIGHTCOND</th>\n",
       "      <th>PEDROWNOTGRNT</th>\n",
       "      <th>SDOTCOLNUM</th>\n",
       "      <th>SPEEDING</th>\n",
       "      <th>ST_COLCODE</th>\n",
       "      <th>ST_COLDESC</th>\n",
       "      <th>HITPARKEDCAR</th>\n",
       "    </tr>\n",
       "  </thead>\n",
       "  <tbody>\n",
       "    <tr>\n",
       "      <th>0</th>\n",
       "      <td>-122.323148</td>\n",
       "      <td>47.703140</td>\n",
       "      <td>Intersection</td>\n",
       "      <td>5TH AVE NE AND NE 103RD ST</td>\n",
       "      <td>2</td>\n",
       "      <td>Angles</td>\n",
       "      <td>2</td>\n",
       "      <td>0</td>\n",
       "      <td>0</td>\n",
       "      <td>2</td>\n",
       "      <td>...</td>\n",
       "      <td>N</td>\n",
       "      <td>Overcast</td>\n",
       "      <td>Wet</td>\n",
       "      <td>Daylight</td>\n",
       "      <td>NaN</td>\n",
       "      <td>NaN</td>\n",
       "      <td>NaN</td>\n",
       "      <td>10</td>\n",
       "      <td>Entering at angle</td>\n",
       "      <td>N</td>\n",
       "    </tr>\n",
       "    <tr>\n",
       "      <th>1</th>\n",
       "      <td>-122.347294</td>\n",
       "      <td>47.647172</td>\n",
       "      <td>Block</td>\n",
       "      <td>AURORA BR BETWEEN RAYE ST AND BRIDGE WAY N</td>\n",
       "      <td>1</td>\n",
       "      <td>Sideswipe</td>\n",
       "      <td>2</td>\n",
       "      <td>0</td>\n",
       "      <td>0</td>\n",
       "      <td>2</td>\n",
       "      <td>...</td>\n",
       "      <td>0</td>\n",
       "      <td>Raining</td>\n",
       "      <td>Wet</td>\n",
       "      <td>Dark - Street Lights On</td>\n",
       "      <td>NaN</td>\n",
       "      <td>6354039.0</td>\n",
       "      <td>NaN</td>\n",
       "      <td>11</td>\n",
       "      <td>From same direction - both going straight - bo...</td>\n",
       "      <td>N</td>\n",
       "    </tr>\n",
       "    <tr>\n",
       "      <th>2</th>\n",
       "      <td>-122.334540</td>\n",
       "      <td>47.607871</td>\n",
       "      <td>Block</td>\n",
       "      <td>4TH AVE BETWEEN SENECA ST AND UNIVERSITY ST</td>\n",
       "      <td>1</td>\n",
       "      <td>Parked Car</td>\n",
       "      <td>4</td>\n",
       "      <td>0</td>\n",
       "      <td>0</td>\n",
       "      <td>3</td>\n",
       "      <td>...</td>\n",
       "      <td>0</td>\n",
       "      <td>Overcast</td>\n",
       "      <td>Dry</td>\n",
       "      <td>Daylight</td>\n",
       "      <td>NaN</td>\n",
       "      <td>4323031.0</td>\n",
       "      <td>NaN</td>\n",
       "      <td>32</td>\n",
       "      <td>One parked--one moving</td>\n",
       "      <td>N</td>\n",
       "    </tr>\n",
       "    <tr>\n",
       "      <th>3</th>\n",
       "      <td>-122.334803</td>\n",
       "      <td>47.604803</td>\n",
       "      <td>Block</td>\n",
       "      <td>2ND AVE BETWEEN MARION ST AND MADISON ST</td>\n",
       "      <td>1</td>\n",
       "      <td>Other</td>\n",
       "      <td>3</td>\n",
       "      <td>0</td>\n",
       "      <td>0</td>\n",
       "      <td>3</td>\n",
       "      <td>...</td>\n",
       "      <td>N</td>\n",
       "      <td>Clear</td>\n",
       "      <td>Dry</td>\n",
       "      <td>Daylight</td>\n",
       "      <td>NaN</td>\n",
       "      <td>NaN</td>\n",
       "      <td>NaN</td>\n",
       "      <td>23</td>\n",
       "      <td>From same direction - all others</td>\n",
       "      <td>N</td>\n",
       "    </tr>\n",
       "    <tr>\n",
       "      <th>4</th>\n",
       "      <td>-122.306426</td>\n",
       "      <td>47.545739</td>\n",
       "      <td>Intersection</td>\n",
       "      <td>SWIFT AVE S AND SWIFT AV OFF RP</td>\n",
       "      <td>2</td>\n",
       "      <td>Angles</td>\n",
       "      <td>2</td>\n",
       "      <td>0</td>\n",
       "      <td>0</td>\n",
       "      <td>2</td>\n",
       "      <td>...</td>\n",
       "      <td>0</td>\n",
       "      <td>Raining</td>\n",
       "      <td>Wet</td>\n",
       "      <td>Daylight</td>\n",
       "      <td>NaN</td>\n",
       "      <td>4028032.0</td>\n",
       "      <td>NaN</td>\n",
       "      <td>10</td>\n",
       "      <td>Entering at angle</td>\n",
       "      <td>N</td>\n",
       "    </tr>\n",
       "  </tbody>\n",
       "</table>\n",
       "<p>5 rows × 26 columns</p>\n",
       "</div>"
      ],
      "text/plain": [
       "            X          Y      ADDRTYPE  \\\n",
       "0 -122.323148  47.703140  Intersection   \n",
       "1 -122.347294  47.647172         Block   \n",
       "2 -122.334540  47.607871         Block   \n",
       "3 -122.334803  47.604803         Block   \n",
       "4 -122.306426  47.545739  Intersection   \n",
       "\n",
       "                                      LOCATION  SEVERITYCODE COLLISIONTYPE  \\\n",
       "0                   5TH AVE NE AND NE 103RD ST             2        Angles   \n",
       "1   AURORA BR BETWEEN RAYE ST AND BRIDGE WAY N             1     Sideswipe   \n",
       "2  4TH AVE BETWEEN SENECA ST AND UNIVERSITY ST             1    Parked Car   \n",
       "3     2ND AVE BETWEEN MARION ST AND MADISON ST             1         Other   \n",
       "4              SWIFT AVE S AND SWIFT AV OFF RP             2        Angles   \n",
       "\n",
       "   PERSONCOUNT  PEDCOUNT  PEDCYLCOUNT  VEHCOUNT  ... UNDERINFL   WEATHER  \\\n",
       "0            2         0            0         2  ...         N  Overcast   \n",
       "1            2         0            0         2  ...         0   Raining   \n",
       "2            4         0            0         3  ...         0  Overcast   \n",
       "3            3         0            0         3  ...         N     Clear   \n",
       "4            2         0            0         2  ...         0   Raining   \n",
       "\n",
       "  ROADCOND                LIGHTCOND PEDROWNOTGRNT SDOTCOLNUM SPEEDING  \\\n",
       "0      Wet                 Daylight           NaN        NaN      NaN   \n",
       "1      Wet  Dark - Street Lights On           NaN  6354039.0      NaN   \n",
       "2      Dry                 Daylight           NaN  4323031.0      NaN   \n",
       "3      Dry                 Daylight           NaN        NaN      NaN   \n",
       "4      Wet                 Daylight           NaN  4028032.0      NaN   \n",
       "\n",
       "  ST_COLCODE                                         ST_COLDESC HITPARKEDCAR  \n",
       "0         10                                  Entering at angle            N  \n",
       "1         11  From same direction - both going straight - bo...            N  \n",
       "2         32                             One parked--one moving            N  \n",
       "3         23                   From same direction - all others            N  \n",
       "4         10                                  Entering at angle            N  \n",
       "\n",
       "[5 rows x 26 columns]"
      ]
     },
     "execution_count": 2,
     "metadata": {},
     "output_type": "execute_result"
    }
   ],
   "source": [
    "car_df = pd.read_csv(\"car_accident.csv\")\n",
    "car_df.head()"
   ]
  },
  {
   "cell_type": "code",
   "execution_count": 3,
   "metadata": {},
   "outputs": [
    {
     "data": {
      "text/plain": [
       "Index(['X', 'Y', 'ADDRTYPE', 'LOCATION', 'SEVERITYCODE', 'COLLISIONTYPE',\n",
       "       'PERSONCOUNT', 'PEDCOUNT', 'PEDCYLCOUNT', 'VEHCOUNT', 'INCDATE',\n",
       "       'INCDTTM', 'JUNCTIONTYPE', 'SDOT_COLCODE', 'SDOT_COLDESC',\n",
       "       'INATTENTIONIND', 'UNDERINFL', 'WEATHER', 'ROADCOND', 'LIGHTCOND',\n",
       "       'PEDROWNOTGRNT', 'SDOTCOLNUM', 'SPEEDING', 'ST_COLCODE', 'ST_COLDESC',\n",
       "       'HITPARKEDCAR'],\n",
       "      dtype='object')"
      ]
     },
     "execution_count": 3,
     "metadata": {},
     "output_type": "execute_result"
    }
   ],
   "source": [
    "car_df.columns"
   ]
  },
  {
   "cell_type": "code",
   "execution_count": 4,
   "metadata": {},
   "outputs": [
    {
     "data": {
      "text/plain": [
       "Block           126926\n",
       "Intersection     65070\n",
       "Alley              751\n",
       "Name: ADDRTYPE, dtype: int64"
      ]
     },
     "execution_count": 4,
     "metadata": {},
     "output_type": "execute_result"
    }
   ],
   "source": [
    "car_df['ADDRTYPE'].value_counts()"
   ]
  },
  {
   "cell_type": "code",
   "execution_count": 5,
   "metadata": {},
   "outputs": [
    {
     "data": {
      "text/plain": [
       "-122.332653    265\n",
       "-122.344896    254\n",
       "-122.328079    252\n",
       "-122.344997    239\n",
       "-122.299160    231\n",
       "              ... \n",
       "-122.322768      1\n",
       "-122.288680      1\n",
       "-122.405699      1\n",
       "-122.323578      1\n",
       "-122.343898      1\n",
       "Name: X, Length: 23563, dtype: int64"
      ]
     },
     "execution_count": 5,
     "metadata": {},
     "output_type": "execute_result"
    }
   ],
   "source": [
    "car_df['X'].value_counts()"
   ]
  },
  {
   "cell_type": "code",
   "execution_count": 6,
   "metadata": {},
   "outputs": [
    {
     "data": {
      "text/plain": [
       "47.708655    265\n",
       "47.717173    254\n",
       "47.604161    252\n",
       "47.725036    239\n",
       "47.579673    231\n",
       "            ... \n",
       "47.556705      1\n",
       "47.709101      1\n",
       "47.513899      1\n",
       "47.565438      1\n",
       "47.563521      1\n",
       "Name: Y, Length: 23839, dtype: int64"
      ]
     },
     "execution_count": 6,
     "metadata": {},
     "output_type": "execute_result"
    }
   ],
   "source": [
    "car_df['Y'].value_counts()"
   ]
  },
  {
   "cell_type": "code",
   "execution_count": 7,
   "metadata": {},
   "outputs": [
    {
     "data": {
      "text/plain": [
       "2     114231\n",
       "3      35553\n",
       "4      14660\n",
       "1      13154\n",
       "5       6584\n",
       "0       5544\n",
       "6       2702\n",
       "7       1131\n",
       "8        533\n",
       "9        216\n",
       "10       128\n",
       "11        56\n",
       "12        33\n",
       "13        21\n",
       "14        19\n",
       "15        11\n",
       "17        11\n",
       "16         8\n",
       "44         6\n",
       "18         6\n",
       "20         6\n",
       "25         6\n",
       "19         5\n",
       "26         4\n",
       "22         4\n",
       "27         3\n",
       "28         3\n",
       "29         3\n",
       "47         3\n",
       "32         3\n",
       "34         3\n",
       "37         3\n",
       "23         2\n",
       "21         2\n",
       "24         2\n",
       "30         2\n",
       "36         2\n",
       "57         1\n",
       "31         1\n",
       "35         1\n",
       "39         1\n",
       "41         1\n",
       "43         1\n",
       "48         1\n",
       "53         1\n",
       "54         1\n",
       "81         1\n",
       "Name: PERSONCOUNT, dtype: int64"
      ]
     },
     "execution_count": 7,
     "metadata": {},
     "output_type": "execute_result"
    }
   ],
   "source": [
    "car_df['PERSONCOUNT'].value_counts()"
   ]
  },
  {
   "cell_type": "code",
   "execution_count": 8,
   "metadata": {},
   "outputs": [
    {
     "data": {
      "text/plain": [
       "(194673, 26)"
      ]
     },
     "execution_count": 8,
     "metadata": {},
     "output_type": "execute_result"
    }
   ],
   "source": [
    "car_df.shape"
   ]
  },
  {
   "cell_type": "code",
   "execution_count": null,
   "metadata": {},
   "outputs": [],
   "source": []
  }
 ],
 "metadata": {
  "kernelspec": {
   "display_name": "Python 3",
   "language": "python",
   "name": "python3"
  },
  "language_info": {
   "codemirror_mode": {
    "name": "ipython",
    "version": 3
   },
   "file_extension": ".py",
   "mimetype": "text/x-python",
   "name": "python",
   "nbconvert_exporter": "python",
   "pygments_lexer": "ipython3",
   "version": "3.6.8"
  }
 },
 "nbformat": 4,
 "nbformat_minor": 4
}
